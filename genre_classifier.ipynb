{
 "cells": [
  {
   "cell_type": "code",
   "execution_count": 28,
   "id": "7c640abc-ab1d-4cf6-a625-07e6541637ae",
   "metadata": {},
   "outputs": [
    {
     "name": "stderr",
     "output_type": "stream",
     "text": [
      "\n",
      "Bad key \"text.kerning_factor\" on line 4 in\n",
      "/home/atlas/anaconda3/lib/python3.7/site-packages/matplotlib/mpl-data/stylelib/_classic_test_patch.mplstyle.\n",
      "You probably need to get an updated matplotlibrc file from\n",
      "http://github.com/matplotlib/matplotlib/blob/master/matplotlibrc.template\n",
      "or from the matplotlib source distribution\n"
     ]
    }
   ],
   "source": [
    "import json\n",
    "import numpy as np\n",
    "import tensorflow.keras as keras\n",
    "import matplotlib.pyplot as plt\n",
    "\n",
    "from sklearn.model_selection import train_test_split\n",
    "\n",
    "%matplotlib inline\n",
    "plt.style.use('ggplot')\n",
    "plt.rcParams.update({'font.size': 16})\n",
    "plt.rcParams['savefig.dpi'] = 200\n",
    "plt.rcParams['axes.facecolor'] = 'white'\n",
    "plt.rcParams['grid.color'] = 'lightgrey'"
   ]
  },
  {
   "cell_type": "code",
   "execution_count": 5,
   "id": "7b010c16-0956-4fe0-b9a9-5e631ac57017",
   "metadata": {},
   "outputs": [],
   "source": [
    "DATASET_PATH = \"Data/data_10.json\""
   ]
  },
  {
   "cell_type": "code",
   "execution_count": 6,
   "id": "4d290beb-3fd8-4ea4-8d73-8524499436b6",
   "metadata": {},
   "outputs": [],
   "source": [
    "def load_data(dataset_path):\n",
    "    with open(dataset_path, \"r\") as fp: # open for reading\n",
    "        data = json.load(fp)\n",
    "        \n",
    "    # convert lists into numpy arrays\n",
    "    inputs = np.array(data[\"mfcc\"])\n",
    "    targets = np.array(data[\"labels\"])\n",
    "    \n",
    "    return inputs, targets\n",
    "\n",
    "# load the dataset\n",
    "if __name__ == \"__main__\":\n",
    "    inputs, targets = load_data(dataset_path=DATASET_PATH)"
   ]
  },
  {
   "cell_type": "code",
   "execution_count": 7,
   "id": "aeffde0b-c780-4802-8af3-3ce772523ef5",
   "metadata": {},
   "outputs": [
    {
     "data": {
      "text/plain": [
       "(9896, 130, 13)"
      ]
     },
     "execution_count": 7,
     "metadata": {},
     "output_type": "execute_result"
    }
   ],
   "source": [
    "inputs.shape"
   ]
  },
  {
   "cell_type": "code",
   "execution_count": 17,
   "id": "7f2676fb-de9e-4645-a5f5-8644d4b8be6d",
   "metadata": {},
   "outputs": [],
   "source": [
    "# split the data into train and test sets\n",
    "X_train, X_test, y_train, y_test = train_test_split(inputs, targets, test_size=0.2)"
   ]
  },
  {
   "cell_type": "code",
   "execution_count": 22,
   "id": "7680254d-4738-46ff-9069-c70b27009cc6",
   "metadata": {},
   "outputs": [],
   "source": [
    "# build the network architecture\n",
    "model = keras.Sequential([\n",
    "    # input layer\n",
    "    keras.layers.Flatten(input_shape=(inputs.shape[1], inputs.shape[2])), # inputs is 3D array, so shape[1] represents the individual segments. \n",
    "    \n",
    "    # 1st hidden layer\n",
    "    # Rectified Linear Unit, funct of h, which is the net input. ReLU provides better convergence by reducing likelihood of vanishing gradient\n",
    "    keras.layers.Dense(512, activation=\"relu\"), \n",
    "    \n",
    "    # 2nd hidden layer\n",
    "    keras.layers.Dense(256, activation=\"relu\"),\n",
    "    \n",
    "    # 3rd hidden layer\n",
    "    keras.layers.Dense(64, activation=\"relu\"),\n",
    "    \n",
    "    # output layer\n",
    "    keras.layers.Dense(10, activation=\"softmax\") # 10 because there are 10 genres. \n",
    "])"
   ]
  },
  {
   "cell_type": "code",
   "execution_count": 23,
   "id": "b3a8f325-8f23-4e87-b5e3-c39fff48aa94",
   "metadata": {},
   "outputs": [],
   "source": [
    "# compile network\n",
    "optimizer = keras.optimizers.Adam(learning_rate=0.0001)\n",
    "model.compile(optimizer=optimizer,\n",
    "             loss=\"sparse_categorical_crossentropy\",\n",
    "             metrics=[\"accuracy\"])"
   ]
  },
  {
   "cell_type": "code",
   "execution_count": 24,
   "id": "86ef7d94-f029-4d03-ac4f-0a29cbb892b1",
   "metadata": {
    "scrolled": true,
    "tags": []
   },
   "outputs": [
    {
     "name": "stdout",
     "output_type": "stream",
     "text": [
      "Epoch 1/150\n",
      "248/248 [==============================] - 2s 7ms/step - loss: 8.7942 - accuracy: 0.3311 - val_loss: 4.5915 - val_accuracy: 0.3667\n",
      "Epoch 2/150\n",
      "248/248 [==============================] - 2s 6ms/step - loss: 3.1368 - accuracy: 0.4233 - val_loss: 2.9720 - val_accuracy: 0.4131\n",
      "Epoch 3/150\n",
      "248/248 [==============================] - 2s 6ms/step - loss: 2.2217 - accuracy: 0.4827 - val_loss: 2.5103 - val_accuracy: 0.4379\n",
      "Epoch 4/150\n",
      "248/248 [==============================] - 2s 6ms/step - loss: 1.7799 - accuracy: 0.5327 - val_loss: 2.2952 - val_accuracy: 0.4667\n",
      "Epoch 5/150\n",
      "248/248 [==============================] - 2s 6ms/step - loss: 1.4489 - accuracy: 0.5863 - val_loss: 2.3514 - val_accuracy: 0.4384\n",
      "Epoch 6/150\n",
      "248/248 [==============================] - 2s 6ms/step - loss: 1.2594 - accuracy: 0.6238 - val_loss: 2.2376 - val_accuracy: 0.5005\n",
      "Epoch 7/150\n",
      "248/248 [==============================] - 2s 6ms/step - loss: 1.0987 - accuracy: 0.6640 - val_loss: 2.1760 - val_accuracy: 0.4747\n",
      "Epoch 8/150\n",
      "248/248 [==============================] - 2s 6ms/step - loss: 0.9448 - accuracy: 0.7072 - val_loss: 2.1423 - val_accuracy: 0.4980\n",
      "Epoch 9/150\n",
      "248/248 [==============================] - 2s 6ms/step - loss: 0.8079 - accuracy: 0.7395 - val_loss: 2.0549 - val_accuracy: 0.5192\n",
      "Epoch 10/150\n",
      "248/248 [==============================] - 2s 6ms/step - loss: 0.7470 - accuracy: 0.7544 - val_loss: 2.0700 - val_accuracy: 0.5040\n",
      "Epoch 11/150\n",
      "248/248 [==============================] - 2s 7ms/step - loss: 0.6914 - accuracy: 0.7710 - val_loss: 2.0864 - val_accuracy: 0.5343\n",
      "Epoch 12/150\n",
      "248/248 [==============================] - 2s 7ms/step - loss: 0.6113 - accuracy: 0.7930 - val_loss: 2.0204 - val_accuracy: 0.5258\n",
      "Epoch 13/150\n",
      "248/248 [==============================] - 2s 7ms/step - loss: 0.5223 - accuracy: 0.8273 - val_loss: 2.2221 - val_accuracy: 0.5207\n",
      "Epoch 14/150\n",
      "248/248 [==============================] - 2s 6ms/step - loss: 0.4945 - accuracy: 0.8301 - val_loss: 1.9904 - val_accuracy: 0.5500\n",
      "Epoch 15/150\n",
      "248/248 [==============================] - 2s 6ms/step - loss: 0.4690 - accuracy: 0.8427 - val_loss: 2.0579 - val_accuracy: 0.5545\n",
      "Epoch 16/150\n",
      "248/248 [==============================] - 2s 6ms/step - loss: 0.3779 - accuracy: 0.8727 - val_loss: 2.1261 - val_accuracy: 0.5485\n",
      "Epoch 17/150\n",
      "248/248 [==============================] - 2s 6ms/step - loss: 0.3673 - accuracy: 0.8732 - val_loss: 2.0444 - val_accuracy: 0.5429\n",
      "Epoch 18/150\n",
      "248/248 [==============================] - 2s 6ms/step - loss: 0.3168 - accuracy: 0.8930 - val_loss: 2.1046 - val_accuracy: 0.5490\n",
      "Restoring model weights from the end of the best epoch.\n",
      "Epoch 00018: early stopping\n"
     ]
    }
   ],
   "source": [
    "model.summary\n",
    "# train network\n",
    "genre_model = model.fit(X_train, y_train, \n",
    "          validation_data=(X_test, y_test),\n",
    "          epochs=150,\n",
    "          batch_size=32,\n",
    "          callbacks= keras.callbacks.EarlyStopping(monitor='val_loss',\n",
    "                                                  verbose=1,\n",
    "                                                  patience=4,\n",
    "                                                  restore_best_weights=True)\n",
    "         )"
   ]
  },
  {
   "cell_type": "code",
   "execution_count": 30,
   "id": "b80cef7c-9d35-44e9-b543-17f02c947861",
   "metadata": {},
   "outputs": [],
   "source": [
    "metrics = genre_model.history\n"
   ]
  },
  {
   "cell_type": "code",
   "execution_count": 34,
   "id": "b7608cb7-5693-4db8-9a99-b72f1f0e7ac1",
   "metadata": {},
   "outputs": [
    {
     "data": {
      "image/png": "[encoded data removed]",
      "text/plain": [
       "<Figure size 720x720 with 1 Axes>"
      ]
     },
     "metadata": {
      "needs_background": "light"
     },
     "output_type": "display_data"
    }
   ],
   "source": [
    "fig, ax = plt.subplots(figsize=(10,10))\n",
    "plt.plot(genre_model.epoch, metrics['loss'], metrics['val_loss'])\n",
    "\n",
    "plt.title('Loss\\n(Sparse Categorical Crossentropy)')\n",
    "plt.legend(['Training Loss', 'Validation Loss'])\n",
    "plt.xlabel('Epoch')\n",
    "# ax.set_ylim(0.0,0.4)\n",
    "plt.show()"
   ]
  },
  {
   "cell_type": "code",
   "execution_count": null,
   "id": "5b7b95b0-8f49-4940-9c5d-be650dbe89ce",
   "metadata": {},
   "outputs": [],
   "source": []
  }
 ],
 "metadata": {
  "kernelspec": {
   "display_name": "Python 3 (ipykernel)",
   "language": "python",
   "name": "python3"
  },
  "language_info": {
   "codemirror_mode": {
    "name": "ipython",
    "version": 3
   },
   "file_extension": ".py",
   "mimetype": "text/x-python",
   "name": "python",
   "nbconvert_exporter": "python",
   "pygments_lexer": "ipython3",
   "version": "3.7.9"
  }
 },
 "nbformat": 4,
 "nbformat_minor": 5
}
